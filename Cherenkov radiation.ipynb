{
 "cells": [
  {
   "cell_type": "code",
   "execution_count": 1,
   "metadata": {},
   "outputs": [
    {
     "data": {
      "text/plain": [
       "{'divide': 'warn', 'over': 'warn', 'under': 'ignore', 'invalid': 'warn'}"
      ]
     },
     "execution_count": 1,
     "metadata": {},
     "output_type": "execute_result"
    }
   ],
   "source": [
    "import os\n",
    "import numpy as np\n",
    "import pandas as pd\n",
    "import matplotlib.pyplot as plt\n",
    "\n",
    "from pyLPD import MLtools as mlt\n",
    "from glob import glob\n",
    "from matplotlib import rcParams\n",
    "from scipy import optimize, constants, stats\n",
    "from SettingPLOTs import *\n",
    "\n",
    "np.seterr(divide='ignore', invalid='ignore')"
   ]
  },
  {
   "cell_type": "code",
   "execution_count": 2,
   "metadata": {},
   "outputs": [],
   "source": [
    "path_dint = '/home/marvyn/GDrive/m144595@dac.unicamp.br/LPD Team/Papers/Journals/2020 - Marvyn - Tailoring GVD/Figures/Figure 4/All-Data-Dispersion/'\n",
    "path_ofc = '/home/marvyn/GDrive/m144595@dac.unicamp.br/LPD Team/Experiments/Microspheres/2019-10-17_Sphere_Al2O3_120nm_OFCs/'\n",
    "\n",
    "dint = pd.read_csv(glob(path_dint + '*73.csv')[0])\n",
    "ofc = pd.read_pickle(sorted(glob(os.path.join(path_ofc,'*Big-OFC*.pkl')), key=os.path.getmtime)[2])"
   ]
  },
  {
   "cell_type": "code",
   "execution_count": 3,
   "metadata": {},
   "outputs": [
    {
     "data": {
      "image/png": "[encoded data removed]",
      "text/plain": [
       "<Figure size 425.197x85.0394 with 1 Axes>"
      ]
     },
     "metadata": {
      "needs_background": "light"
     },
     "output_type": "display_data"
    }
   ],
   "source": [
    "ofc['freq (THz)'] = 1e-3*constants.c / ofc['λ (nm)']\n",
    "\n",
    "ν_p = ofc['freq (THz)'][ofc['Power (dBm)'].idxmax()] # laser pump wavelength\n",
    "\n",
    "fig, ax = plt.subplots(figsize=cm2inch(15,3))\n",
    "\n",
    "ax.plot(ofc['freq (THz)'], ofc['Power (dBm)'], c='mediumblue', lw=0.4)\n",
    "ax.scatter(ν_p, ofc['Power (dBm)'].max(), s=10, color='r', marker='+', alpha=1, label=r'$ν_p$ = {:.2f} THz'.format(ν_p,1))\n",
    "\n",
    "ax.set_xlabel('Frequency (THz)')\n",
    "ax.set_ylabel('Power (dBm)')\n",
    "ax.set_xlim(179.8,215.3)\n",
    "# ax.set_ylim(-90,90)\n",
    "\n",
    "freq_ticks = [185, 197, 210]\n",
    "ax.set_xticks(freq_ticks)\n",
    "\n",
    "def invert(x):\n",
    "    return 1e-3*constants.c / x\n",
    "\n",
    "ax2 = ax.secondary_xaxis('top', functions=(invert, invert))\n",
    "# ax2.set_ticks(np.round(1e-3*constants.c/np.array(freq_ticks),0))\n",
    "ax2.set_ticks([1450, 1550, 1650])\n",
    "ax2.set_xlabel('Wavelength (nm)')\n",
    "\n",
    "plt.legend(loc='best', frameon=False, framealpha=1)\n",
    "# plt.savefig('Figures/'+'OFC.svg')\n",
    "plt.show()"
   ]
  },
  {
   "cell_type": "markdown",
   "metadata": {},
   "source": [
    "We should expand in Taylor around the resonance frequency who is producing the OFC.\n",
    "\n",
    "From the linear spectrum is possible to know this resonance frequency $\\nu_0$ = 193.87 THz.\n",
    "\n",
    "OFC is produced with high input power (~ 65 mW), so the ressonance peak with this power shoul be shifted respect to $\\nu_0$, so take care about it.\n",
    "\n",
    "In this case is better to use the mode number, so:\n",
    "- Set $\\mu$ = 0 at $\\nu_0$ for dispersion curve.\n",
    "- Set the OFC peak as $\\mu$ = 0 and compare the OFC with dispersion curve."
   ]
  },
  {
   "cell_type": "code",
   "execution_count": 4,
   "metadata": {},
   "outputs": [
    {
     "data": {
      "text/html": [
       "<div>\n",
       "<style scoped>\n",
       "    .dataframe tbody tr th:only-of-type {\n",
       "        vertical-align: middle;\n",
       "    }\n",
       "\n",
       "    .dataframe tbody tr th {\n",
       "        vertical-align: top;\n",
       "    }\n",
       "\n",
       "    .dataframe thead th {\n",
       "        text-align: right;\n",
       "    }\n",
       "</style>\n",
       "<table border=\"1\" class=\"dataframe\">\n",
       "  <thead>\n",
       "    <tr style=\"text-align: right;\">\n",
       "      <th></th>\n",
       "      <th>μ</th>\n",
       "      <th>Δν (THz)</th>\n",
       "      <th>ν (THz)</th>\n",
       "      <th>Q-factor</th>\n",
       "    </tr>\n",
       "  </thead>\n",
       "  <tbody>\n",
       "    <tr>\n",
       "      <th>0</th>\n",
       "      <td>-30.0</td>\n",
       "      <td>-8.408800</td>\n",
       "      <td>186.899322</td>\n",
       "      <td>7.941913</td>\n",
       "    </tr>\n",
       "    <tr>\n",
       "      <th>1</th>\n",
       "      <td>-29.0</td>\n",
       "      <td>-8.118852</td>\n",
       "      <td>187.189270</td>\n",
       "      <td>9.754975</td>\n",
       "    </tr>\n",
       "  </tbody>\n",
       "</table>\n",
       "</div>"
      ],
      "text/plain": [
       "      μ  Δν (THz)     ν (THz)  Q-factor\n",
       "0 -30.0 -8.408800  186.899322  7.941913\n",
       "1 -29.0 -8.118852  187.189270  9.754975"
      ]
     },
     "execution_count": 4,
     "metadata": {},
     "output_type": "execute_result"
    }
   ],
   "source": [
    "dint.head(2)"
   ]
  },
  {
   "cell_type": "code",
   "execution_count": 5,
   "metadata": {},
   "outputs": [],
   "source": [
    "f0_comb = 193.87 # in THz --- resonance frequency of the mode who is producing the comb\n",
    "\n",
    "μ0_idx = np.where(abs(dint['ν (THz)']-f0_comb)==min(abs(dint['ν (THz)']-f0_comb)))[0][0]\n",
    "\n",
    "f0 = dint['ν (THz)'][μ0_idx]\n",
    "dint['μ'] = dint['μ']-dint['μ'][μ0_idx]\n",
    "dint['Δν (THz)'] = dint['ν (THz)'] - dint['ν (THz)'][μ0_idx]"
   ]
  },
  {
   "cell_type": "markdown",
   "metadata": {},
   "source": [
    "### Considering $d_4\\neq 0$\n",
    "\n",
    "**Reference**: Photonic chip–based optical frequency comb using soliton Cherenkov radiation.\n",
    "\n",
    "In the presence of $d_4$, two peaks of Cherenkov radiation may occur at\n",
    "\n",
    "$$ \\mu_\\text{DW} = -\\frac{2d_3}{d_4} \\pm \\sqrt{\\left(\\frac{2d_3}{d_4}\\right)^2 - \\frac{12d_2}{d_4}} $$"
   ]
  },
  {
   "cell_type": "code",
   "execution_count": 6,
   "metadata": {},
   "outputs": [],
   "source": [
    "ν_μ = lambda μ, *d: d[0] + d[1]*μ + d[2]/2*μ**2 + d[3]/6*μ**3 + d[4]/24*μ**4\n",
    "\n",
    "dfit, dcov = optimize.curve_fit(ν_μ, dint['μ'], dint['Δν (THz)'], [1,0,0,0,0])"
   ]
  },
  {
   "cell_type": "code",
   "execution_count": 7,
   "metadata": {},
   "outputs": [
    {
     "data": {
      "image/png": "[encoded data removed]",
      "text/plain": [
       "<Figure size 425.197x85.0394 with 1 Axes>"
      ]
     },
     "metadata": {
      "needs_background": "light"
     },
     "output_type": "display_data"
    }
   ],
   "source": [
    "μ_vec = np.arange(-60, 75, 1)\n",
    "\n",
    "xmin, xmax = 179.8, 215.3 # in THz\n",
    "ymin, ymax = -0.1, 0.3 # in GHz\n",
    "\n",
    "plt.figure(figsize=cm2inch(15,3))\n",
    "\n",
    "legenda = 'Al2O3 - 73 nm \\n' + \\\n",
    "        r' $\\nu_0$ = {:.2f} THz'.format(f0) + '\\n' \\\n",
    "        r' $D_2/2\\pi$ = ({:.2f} $\\pm$ {:.2f}) MHz'.format(1e6*dfit[2], 1e6*np.sqrt(dcov[2,2])) + '\\n' \\\n",
    "        r' $D_3/2\\pi$ = ({:.2f} $\\pm$ {:.2f}) kHz'.format(1e9*dfit[3], 1e9*np.sqrt(dcov[3,3])) + '\\n' +\\\n",
    "        r' $D_4/2\\pi$ = ({:.2f} $\\pm$ {:.2f}) Hz'.format(1e12*dfit[4], 1e12*np.sqrt(dcov[4,4]))\n",
    "\n",
    "plt.scatter(dint['ν (THz)'], 1e3*(dint['Δν (THz)']-ν_μ(dint['μ'],*[dfit[0], dfit[1], 0, 0, 0])), c='w', s=15, lw=1, edgecolors='SandyBrown') # 'SandyBrown'\n",
    "plt.plot(f0+ν_μ(μ_vec, *dfit), 1e3*ν_μ(μ_vec, *[0, 0, dfit[2], dfit[3], dfit[4]]), c='k', lw=1, label=legenda)\n",
    "plt.hlines(0, min(f0+ν_μ(μ_vec, *dfit)), max(f0+ν_μ(μ_vec, *dfit)), ls='--', lw=0.8)\n",
    "plt.vlines(x=f0, ymin=ymin, ymax=ymax, ls='--', lw=0.8)\n",
    "\n",
    "# def invert(x):\n",
    "#     return 1e-3*constants.c / x\n",
    "# ax2 = ax.secondary_xaxis('top', functions=(invert, invert))\n",
    "# ax2.set_xlabel(r'Wavelength (nm)')\n",
    "\n",
    "plt.xlim(xmin, xmax)\n",
    "plt.xticks([185, 197, 210])\n",
    "plt.ylim(ymin, ymax)\n",
    "plt.yticks([0, 0.2])\n",
    "plt.xlabel('Frequency (THz)')\n",
    "plt.ylabel('dint (GHz)')\n",
    "plt.legend(loc='center left', bbox_to_anchor=(1.5, 0.5), frameon=True, fontsize='small')\n",
    "plt.grid(True)\n",
    "\n",
    "# plt.savefig('Figures/'+'Dispersion-73nm-alumina-extrapolating-frequency.svg', bbox_inches='tight')\n",
    "\n",
    "plt.show()"
   ]
  },
  {
   "cell_type": "code",
   "execution_count": 21,
   "metadata": {},
   "outputs": [
    {
     "data": {
      "image/png": "[encoded data removed]",
      "text/plain": [
       "<Figure size 453.543x198.425 with 2 Axes>"
      ]
     },
     "metadata": {
      "needs_background": "light"
     },
     "output_type": "display_data"
    }
   ],
   "source": [
    "fig, axs = plt.subplots(2, 1, figsize=cm2inch(16,7), sharex=True)\n",
    "fig.subplots_adjust(hspace=0.07)\n",
    "\n",
    "axs[0].scatter(dint['ν (THz)'], 1e3*(dint['Δν (THz)']-ν_μ(dint['μ'],*[dfit[0], dfit[1], 0, 0, 0])), c='w', s=20, lw=1, edgecolors='SandyBrown') # 'SandyBrown'\n",
    "axs[0].plot(f0+ν_μ(μ_vec, *dfit), 1e3*ν_μ(μ_vec, *[0, 0, dfit[2], dfit[3], dfit[4]]), c='k', lw=1.2, label=legenda)\n",
    "axs[0].hlines(0, min(f0+ν_μ(μ_vec, *dfit)), max(f0+ν_μ(μ_vec, *dfit)), ls='--', lw=0.8)\n",
    "axs[0].vlines(x=f0, ymin=ymin, ymax=ymax, ls='--', lw=0.8)\n",
    "axs[0].set_xlim(xmin, xmax)\n",
    "axs[0].set_ylim(ymin, ymax)\n",
    "axs[0].set_ylabel('dint (GHz)')\n",
    "\n",
    "axs[1].plot(ofc['freq (THz)'], ofc['Power (dBm)'], c='mediumblue', lw=0.6)\n",
    "axs[1].scatter(ν_p, ofc['Power (dBm)'].max(), s=10, color='r', marker='o', alpha=1, label=r'$ν_p$ = {:.2f} THz'.format(ν_p,1))\n",
    "\n",
    "axs[1].set_xlabel('Frequency (THz)')\n",
    "axs[1].set_ylabel('Power (dBm)')\n",
    "axs[1].legend(loc='best', frameon=False, framealpha=1)\n",
    "\n",
    "plt.savefig('Figures/'+'Dispersion-73nm_Big-OFCombs.svg', bbox_inches='tight')\n",
    "\n",
    "plt.show()"
   ]
  },
  {
   "cell_type": "code",
   "execution_count": null,
   "metadata": {},
   "outputs": [],
   "source": [
    "d2 = dfit[2]\n",
    "d3 = dfit[3]\n",
    "d4 = dfit[4]"
   ]
  },
  {
   "cell_type": "code",
   "execution_count": null,
   "metadata": {},
   "outputs": [],
   "source": [
    "if d4==0:\n",
    "    μdw = -3*d2/d3\n",
    "else:\n",
    "    μdw = -2*d3/d4 + ((2*d3/d4)**2 - 12*d2/d4)**(1/2)\n",
    "\n",
    "μdw"
   ]
  },
  {
   "cell_type": "code",
   "execution_count": null,
   "metadata": {},
   "outputs": [],
   "source": [
    "dint_vec = 1e3*ν_μ(μ_vec, *[0, 0, dfit[2], dfit[3], dfit[4]])\n",
    "\n",
    "idx_μdw =  np.where(dint_vec==np.sort(np.abs(dint_vec))[13])[0][0]\n",
    "\n",
    "freq_comb = f0+ν_μ(μ_vec, *dfit)\n",
    "\n",
    "freq_comb[idx_μdw]"
   ]
  },
  {
   "cell_type": "code",
   "execution_count": 25,
   "metadata": {},
   "outputs": [
    {
     "data": {
      "image/png": "[encoded data removed]",
      "text/plain": [
       "<Figure size 453.543x94.9606 with 1 Axes>"
      ]
     },
     "metadata": {
      "needs_background": "light"
     },
     "output_type": "display_data"
    }
   ],
   "source": [
    "plt.figure(figsize=cm2inch(16, 3.35))\n",
    "\n",
    "legenda = 'Al2O3 - 73 nm \\n' + \\\n",
    "        r' $\\nu_0$ = {:.2f} THz'.format(f0) + '\\n' \\\n",
    "        r' $D_2/2\\pi$ = ({:.2f} $\\pm$ {:.2f}) MHz'.format(1e6*dfit[2], 1e6*np.sqrt(dcov[2,2])) + '\\n' \\\n",
    "        r' $D_3/2\\pi$ = ({:.2f} $\\pm$ {:.2f}) kHz'.format(1e9*dfit[3], 1e9*np.sqrt(dcov[3,3])) + '\\n' +\\\n",
    "        r' $D_4/2\\pi$ = ({:.2f} $\\pm$ {:.2f}) Hz'.format(1e12*dfit[4], 1e12*np.sqrt(dcov[4,4]))\n",
    "\n",
    "# plt.scatter(dint['ν (THz)'], 1e3*(dint['Δν (THz)']-ν_μ(dint['μ'],*[dfit[0], dfit[1], 0, 0, 0])), c='w', s=10, lw=0.5, edgecolors='SandyBrown') # 'SandyBrown'\n",
    "plt.plot(μ_vec, 1e3*ν_μ(μ_vec, *[0, 0, dfit[2], dfit[3], dfit[4]]), c='k', lw=1, label=legenda)\n",
    "# plt.hlines(0, min(f0+ν_μ(μ_vec, *dfit)), max(f0+ν_μ(μ_vec, *dfit)), ls='--', lw=0.8)\n",
    "# plt.vlines(x=f0, ymin=ymin, ymax=ymax, ls='--', lw=0.8)\n",
    "\n",
    "# plt.xlim(xmin, xmax)\n",
    "plt.xlim(-50,70)\n",
    "# plt.xticks([185, 197, 210])\n",
    "plt.ylim(ymin, ymax)\n",
    "plt.yticks([0, 0.2])\n",
    "plt.xlabel('number mode, μ')\n",
    "plt.ylabel('dint (GHz)')\n",
    "plt.legend(loc='center left', bbox_to_anchor=(1.5, 0.5), frameon=True, fontsize='small')\n",
    "plt.grid(True)\n",
    "\n",
    "plt.savefig('Figures/'+'Dispersion-73nm_Big-OFCombs_mu.svg', bbox_inches='tight')\n",
    "\n",
    "plt.show()"
   ]
  },
  {
   "cell_type": "code",
   "execution_count": null,
   "metadata": {},
   "outputs": [],
   "source": [
    "posmax, maxtab, posmin, mintab = mlt.peakdet(ofc['Power (dBm)'].values, 4)\n",
    "\n",
    "fig, ax = plt.subplots(figsize=cm2inch(70,10))\n",
    "\n",
    "ax.plot(ofc['freq (THz)'], ofc['Power (dBm)'], c='mediumblue', lw=0.4)\n",
    "# ax.scatter(ν_p, ofc['Power (dBm)'].max(), s=10, color='r', marker='+', alpha=1, label=r'$ν_p$ = {:.2f} THz'.format(ν_p,1))\n",
    "plt.scatter(ofc['freq (THz)'][posmax], maxtab, color='r', label='max') # plt max\n",
    "\n",
    "ax.set_xlabel('Frequency (THz)')\n",
    "ax.set_ylabel('Power (dBm)')\n",
    "ax.set_xlim(179.8,215.3)\n",
    "# ax.set_ylim(-90,90)\n",
    "\n",
    "# freq_ticks = [185, 197, 210]\n",
    "# ax.set_xticks(freq_ticks)\n",
    "\n",
    "def invert(x):\n",
    "    return 1e-3*constants.c / x\n",
    "\n",
    "ax2 = ax.secondary_xaxis('top', functions=(invert, invert))\n",
    "# ax2.set_ticks(np.round(1e-3*constants.c/np.array(freq_ticks),0))\n",
    "ax2.set_ticks([1450, 1600])\n",
    "ax2.set_xlabel('Wavelength (nm)')\n",
    "\n",
    "ax = plt.gca()\n",
    "for ii in range(len(maxtab)):\n",
    "    ax.annotate(-(ii-73), (ofc['freq (THz)'][posmax[ii]]-0.1, maxtab[ii]+4), rotation=90, fontsize='12')\n",
    "\n",
    "plt.legend(loc='best', frameon=False, framealpha=1)\n",
    "# plt.savefig('OFC-peaks.svg')\n",
    "plt.show()"
   ]
  },
  {
   "cell_type": "code",
   "execution_count": null,
   "metadata": {},
   "outputs": [],
   "source": [
    "μ_DW_idx = -(48-73)\n",
    "ofc['freq (THz)'][posmax[μ_DW_idx]]"
   ]
  },
  {
   "cell_type": "code",
   "execution_count": null,
   "metadata": {},
   "outputs": [],
   "source": [
    "d2 = 480.0\n",
    "d3 = -22.0\n",
    "d4 = -0.7\n",
    "\n",
    "μdw = -2*d3/d4 + ((2*d3/d4)**2 - 12*d2/d4)**(1/2)\n",
    "μdw"
   ]
  },
  {
   "cell_type": "markdown",
   "metadata": {},
   "source": [
    "----\n",
    "----"
   ]
  },
  {
   "cell_type": "markdown",
   "metadata": {},
   "source": [
    "### Considering $d_4=0$\n",
    "\n",
    "**Reference**: Photonic chip–based optical frequency comb using soliton Cherenkov radiation.\n",
    "\n",
    "The spectral position of the Cherenkov radiation is approximately given by the linear phase-matching condition $d_\\text{int}(\\mu_\\text{DW})=0$ at $\\mu_\\text{DW}=(-3d_2/d_3)$ for $d_4=0$."
   ]
  },
  {
   "cell_type": "code",
   "execution_count": null,
   "metadata": {},
   "outputs": [],
   "source": [
    "ν_μ = lambda μ, *d: d[0] + d[1]*μ + d[2]/2*μ**2 + d[3]/6*μ**3\n",
    "\n",
    "dfit, dcov = optimize.curve_fit(ν_μ, dint['μ'], dint['Δν (THz)'], [1,0,0,0])"
   ]
  },
  {
   "cell_type": "code",
   "execution_count": null,
   "metadata": {},
   "outputs": [],
   "source": [
    "μ_vec = np.arange(-60, 75, 1)\n",
    "\n",
    "xmin, xmax = 179.8, 215.3 # in THz\n",
    "ymin, ymax = -0.1, 0.3 # in GHz\n",
    "\n",
    "plt.figure(figsize=cm2inch(4.85,2.25))\n",
    "\n",
    "legenda = 'Al2O3 - 73 nm \\n' + \\\n",
    "        r' $\\nu_0$ = {:.2f} THz'.format(f0) + '\\n' \\\n",
    "        r' $D_2/2\\pi$ = ({:.2f} $\\pm$ {:.2f}) MHz'.format(1e6*dfit[2], 1e6*np.sqrt(dcov[2,2])) + '\\n' \\\n",
    "        r' $D_3/2\\pi$ = ({:.2f} $\\pm$ {:.2f}) kHz'.format(1e9*dfit[3], 1e9*np.sqrt(dcov[3,3]))\n",
    "\n",
    "plt.scatter(dint['ν (THz)'], 1e3*(dint['Δν (THz)']-ν_μ(dint['μ'],*[dfit[0], dfit[1], 0, 0])), c='w', s=10, lw=0.5, edgecolors='SandyBrown') # 'SandyBrown'\n",
    "plt.plot(f0+ν_μ(μ_vec, *dfit), 1e3*ν_μ(μ_vec, *[0, 0, dfit[2], dfit[3]]), c='k', lw=1, label=legenda)\n",
    "plt.hlines(0, min(f0+ν_μ(μ_vec, *dfit)), max(f0+ν_μ(μ_vec, *dfit)), ls='--', lw=0.8)\n",
    "plt.vlines(x=f0, ymin=ymin, ymax=ymax, ls='--', lw=0.8)\n",
    "\n",
    "# def invert(x):\n",
    "#     return 1e-3*constants.c / x\n",
    "# ax2 = ax.secondary_xaxis('top', functions=(invert, invert))\n",
    "# ax2.set_xlabel(r'Wavelength (nm)')\n",
    "\n",
    "plt.xlim(xmin, xmax)\n",
    "plt.xticks([185, 197, 210])\n",
    "plt.ylim(ymin, ymax)\n",
    "plt.yticks([0, 0.2])\n",
    "plt.xlabel('Frequency (THz)')\n",
    "plt.ylabel('dint (GHz)')\n",
    "plt.legend(loc='center left', bbox_to_anchor=(1.5, 0.5), frameon=True, fontsize='small')\n",
    "plt.grid(True)\n",
    "\n",
    "# plt.savefig('Dispersion-73nm-alumina-extrapolating-frequency-without-d4.svg', bbox_inches='tight')\n",
    "\n",
    "plt.show()"
   ]
  },
  {
   "cell_type": "code",
   "execution_count": null,
   "metadata": {},
   "outputs": [],
   "source": [
    "d2 = dfit[2]\n",
    "d3 = dfit[3]"
   ]
  },
  {
   "cell_type": "code",
   "execution_count": null,
   "metadata": {},
   "outputs": [],
   "source": [
    "μdw = -3*d2/d3\n",
    "μdw"
   ]
  },
  {
   "cell_type": "markdown",
   "metadata": {},
   "source": [
    "It is not consistent with OFC spectrum!!!"
   ]
  },
  {
   "cell_type": "code",
   "execution_count": null,
   "metadata": {},
   "outputs": [],
   "source": [
    "fvec = 1e3*ν_μ(μ_vec, *[0, 0, dfit[2], dfit[3]])\n",
    "\n",
    "# plt.scatter(dint['ν (THz)'], 1e3*(dint['Δν (THz)']-ν_μ(dint['μ'],*[dfit[0], dfit[1], 0, 0])), c='w', s=10, lw=0.5, edgecolors='SandyBrown') # 'SandyBrown'\n",
    "plt.plot(f0+ν_μ(μ_vec, *dfit), np.diff(fvec, prepend=fvec[0]), c='k', lw=1, label=legenda)\n",
    "print(np.where(np.diff(fvec, prepend=fvec[0])==np.diff(fvec, prepend=fvec[0]).max())[0][0])\n",
    "print(f0+ν_μ(μ_vec, *dfit)[79])\n",
    "# plt.hlines(0, min(f0+ν_μ(μ_vec, *dfit)), max(f0+ν_μ(μ_vec, *dfit)), ls='--', lw=0.8)\n",
    "# plt.vlines(x=f0, ymin=ymin, ymax=ymax, ls='--', lw=0.8)\n",
    "\n",
    "plt.xlim(xmin, xmax)\n",
    "# plt.ylim(ymin, ymax)\n",
    "plt.xlabel('Frequency (THz)')\n",
    "plt.ylabel('dint (GHz)')\n",
    "# plt.legend(loc='center left', bbox_to_anchor=(1.5, 0.5), frameon=True, fontsize='small')\n",
    "plt.grid(True)\n",
    "\n",
    "# plt.savefig('Dispersion-73nm-alumina-extrapolating-frequency-without-d4-diff.svg', bbox_inches='tight')\n",
    "\n",
    "plt.show()"
   ]
  },
  {
   "cell_type": "code",
   "execution_count": null,
   "metadata": {},
   "outputs": [],
   "source": [
    "(199.37-197)*13.76/13"
   ]
  },
  {
   "cell_type": "markdown",
   "metadata": {},
   "source": [
    "### First comb lines\n",
    "\n",
    "$$\\mu = \\sqrt{\\frac{\\kappa}{2\\pi d_2}}$$\n",
    "\n",
    "From the recognized mode fitting $\\kappa$ = 11,2 MHz and from dispersion fitting $d_2$ = 440 kHz we have $\\mu = 5$"
   ]
  }
 ],
 "metadata": {
  "kernelspec": {
   "display_name": "Python 3",
   "language": "python",
   "name": "python3"
  },
  "language_info": {
   "codemirror_mode": {
    "name": "ipython",
    "version": 3
   },
   "file_extension": ".py",
   "mimetype": "text/x-python",
   "name": "python",
   "nbconvert_exporter": "python",
   "pygments_lexer": "ipython3",
   "version": "3.8.5"
  }
 },
 "nbformat": 4,
 "nbformat_minor": 4
}
