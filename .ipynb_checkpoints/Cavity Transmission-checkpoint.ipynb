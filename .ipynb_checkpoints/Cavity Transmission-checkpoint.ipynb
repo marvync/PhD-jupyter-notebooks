{
 "cells": [
  {
   "cell_type": "code",
   "execution_count": 1,
   "metadata": {},
   "outputs": [],
   "source": [
    "import numpy as np\n",
    "\n",
    "from matplotlib import pyplot as plt\n",
    "import matplotlib.transforms as mtransforms\n",
    "\n",
    "from SettingPLOTs import *\n",
    "\n",
    "pathfig = '/home/marvyn/GDrive/marvyn.inga@gmail.com/LPD_IFGW_UNICAMP/PhD-jupyter-notebooks/Figures/'"
   ]
  },
  {
   "cell_type": "markdown",
   "metadata": {},
   "source": [
    "### Cavity transmission:\n",
    "\n",
    "$$T(\\omega) = 1 + \\sum_{j=1}^{N}\\frac{4 \\eta_j (\\eta_j-1)\\kappa_j^2}{\\kappa_j^2 + 4(\\omega-\\omega_j)^2}$$\n",
    "\n",
    "where $N$ is the number of resonances and ($\\omega_j$, $\\eta_j$, $\\kappa_j$) corresponde to each resonance."
   ]
  },
  {
   "cell_type": "code",
   "execution_count": 2,
   "metadata": {},
   "outputs": [],
   "source": [
    "def Transmission(ω, ωj, ηj, κj):\n",
    "    \"\"\"\n",
    "    All input parameters are vectors.\n",
    "    Return the cavity normalized transmission.\n",
    "    \"\"\"\n",
    "    T = 1\n",
    "    for ωj, ηj, κj in zip(ωj, ηj, κj):\n",
    "        T = T + 4*ηj*(ηj-1)*κj**2 / (κj**2 + 4*(ω-ωj)**2)\n",
    "    return T"
   ]
  },
  {
   "cell_type": "markdown",
   "metadata": {},
   "source": [
    "### 1 peak"
   ]
  },
  {
   "cell_type": "code",
   "execution_count": 3,
   "metadata": {},
   "outputs": [
    {
     "data": {
      "image/png": "[encoded data removed]",
      "text/plain": [
       "<Figure size 170.079x113.386 with 1 Axes>"
      ]
     },
     "metadata": {
      "needs_background": "light"
     },
     "output_type": "display_data"
    }
   ],
   "source": [
    "ωi, ωf, Δω = 192, 198, 1e-2 # Frequency in THz\n",
    "\n",
    "ω = np.arange(ωi, ωf, Δω)\n",
    "\n",
    "N = 1 # Number of resonances\n",
    "ωj = [(ωf+ωi)/2]\n",
    "ηj = [0.5]\n",
    "κj = [0.8]\n",
    "\n",
    "fig, ax = plt.subplots(figsize=cm2inch(6,4))\n",
    "\n",
    "T = Transmission(ω,ωj,ηj,κj)\n",
    "ax.plot(ω, T, c='mediumblue')\n",
    "\n",
    "trans = mtransforms.blended_transform_factory(ax.transData, ax.transAxes)\n",
    "ax.fill_between(ω, -0.1, 1.1, where=T<=0.5, facecolor='indigo', alpha=0.2, transform=trans)\n",
    "\n",
    "ax.set_xlabel('Frequency')\n",
    "ax.set_ylabel('Norm. Trans.')\n",
    "\n",
    "plt.xticks(ωj, [r'$ω_0$'])\n",
    "# plt.savefig(pathfig+'Cavity-transmission-1-peak.svg')\n",
    "plt.show()"
   ]
  },
  {
   "cell_type": "markdown",
   "metadata": {},
   "source": [
    "### 2 peaks"
   ]
  },
  {
   "cell_type": "code",
   "execution_count": 20,
   "metadata": {},
   "outputs": [
    {
     "data": {
      "image/png": "[encoded data removed]",
      "text/plain": [
       "<Figure size 283.465x113.386 with 1 Axes>"
      ]
     },
     "metadata": {
      "needs_background": "light"
     },
     "output_type": "display_data"
    }
   ],
   "source": [
    "ωi, ωf, Δω = 190, 210, 1e-2 # Frequency in THz\n",
    "\n",
    "ω = np.arange(ωi, ωf, Δω)\n",
    "\n",
    "N = 2 # Number of resonances\n",
    "δ = 5 # Avoid peaks in the extremes of the intervale of frequencies.\n",
    "ωj = np.linspace(ωi+δ, ωf-δ, N)\n",
    "ηj = [0.5, 0.5] # We are choosing the same ηj for all resonances.\n",
    "κj = [1.5, 0.5] # We are choosing the same κj for all resonances.\n",
    "\n",
    "label = []\n",
    "for ii in range(N):\n",
    "    label.append(r'$Δω_{}$'.format(ii+1))\n",
    "\n",
    "fig, ax = plt.subplots(figsize=cm2inch(10,4))\n",
    "\n",
    "T = Transmission(ω,ωj,ηj,κj)\n",
    "ax.plot(ω, T, c='mediumblue')\n",
    "\n",
    "import matplotlib.transforms as mtransforms\n",
    "trans = mtransforms.blended_transform_factory(ax.transData, ax.transAxes)\n",
    "ax.fill_between(ω, -0.15, 1.15, where=T<=0.5, facecolor='indigo', alpha=0.15, transform=trans)\n",
    "\n",
    "ax.set_xlabel('Frequency')\n",
    "ax.set_ylabel('Norm. Trans.')\n",
    "# ax.set_yticks([])\n",
    "\n",
    "plt.xticks(ωj, label)\n",
    "plt.savefig(pathfig+'Cavity-transmission-2-peaks.svg')\n",
    "plt.show()"
   ]
  },
  {
   "cell_type": "code",
   "execution_count": 5,
   "metadata": {},
   "outputs": [
    {
     "ename": "NameError",
     "evalue": "name 'stop' is not defined",
     "output_type": "error",
     "traceback": [
      "\u001b[0;31m---------------------------------------------------------------------------\u001b[0m",
      "\u001b[0;31mNameError\u001b[0m                                 Traceback (most recent call last)",
      "\u001b[0;32m<ipython-input-5-4f76a9dad686>\u001b[0m in \u001b[0;36m<module>\u001b[0;34m\u001b[0m\n\u001b[0;32m----> 1\u001b[0;31m \u001b[0mstop\u001b[0m\u001b[0;34m\u001b[0m\u001b[0;34m\u001b[0m\u001b[0m\n\u001b[0m",
      "\u001b[0;31mNameError\u001b[0m: name 'stop' is not defined"
     ]
    }
   ],
   "source": [
    "stop"
   ]
  },
  {
   "cell_type": "markdown",
   "metadata": {},
   "source": [
    "### 3 peaks"
   ]
  },
  {
   "cell_type": "code",
   "execution_count": null,
   "metadata": {},
   "outputs": [],
   "source": [
    "ωi, ωf, Δω = 190, 210, 1e-2 # Frequency in THz\n",
    "\n",
    "ω = np.arange(ωi, ωf, Δω)\n",
    "\n",
    "N = 3 # Number of resonances\n",
    "δ = 4 # Avoid peaks in the extremes of the intervale of frequencies.\n",
    "ωj = np.linspace(ωi+δ, ωf-δ, N)\n",
    "ηj = 0.5*np.ones(N) # We are choosing the same ηj for all resonances.\n",
    "κj = 0.5*np.ones(N) # We are choosing the same κj for all resonances.\n",
    "\n",
    "label = []\n",
    "for ii in range(N):\n",
    "    label.append(r'$ω_{}$'.format(ii+1))\n",
    "\n",
    "fig, ax = plt.subplots(figsize=cm2inch(13,4))\n",
    "\n",
    "T = Transmission(ω,ωj,ηj,κj)\n",
    "ax.plot(ω, T, c='mediumblue')\n",
    "ax.vlines(ωj, -0.5, 1.1, ls=':', lw=1.2, alpha=0.6)\n",
    "\n",
    "import matplotlib.transforms as mtransforms\n",
    "trans = mtransforms.blended_transform_factory(ax.transData, ax.transAxes)\n",
    "ax.fill_between(ω, -0.5, 1.1, where=T<=0.5, facecolor='slateblue', alpha=0.2, transform=trans)\n",
    "\n",
    "ax.set_xlabel('Frequency')\n",
    "ax.set_ylabel('Transmission')\n",
    "ax.set_yticks([])\n",
    "\n",
    "plt.xticks(ωj, label)\n",
    "# plt.savefig(pathfig+'Cavity-transmission-3-peaks.svg')\n",
    "plt.show()"
   ]
  },
  {
   "cell_type": "markdown",
   "metadata": {},
   "source": [
    "### Eccentricity splitting:\n",
    "\n",
    "$$\\frac{\\Delta\\omega_\\text{ecc}}{\\omega_{nlm}} = -\\frac{\\epsilon}{6}\\left(1-3\\frac{|m|^2}{l(l+1)}\\right)$$"
   ]
  },
  {
   "cell_type": "code",
   "execution_count": null,
   "metadata": {},
   "outputs": [],
   "source": [
    "def Splitting(R, ϵ, l):\n",
    "    FSR = c / (2*pi*SiO2().n(1550)*R)\n",
    "    ω0 = 1e-12 * l * FSR # in THz\n",
    "    Δω = []\n",
    "    for ii in np.arange(l):\n",
    "        Δω.append(ω0 - ω0 * (ϵ/6) * (1-3*np.power(ii, 2)/(l*(l+1))))\n",
    "    return Δω\n",
    "\n",
    "# Example\n",
    "lex = 100\n",
    "plt.plot(np.arange(lex), Splitting(10e-6, 0.01, lex), 'o', label = '$ω_0$ = {:3.2f} THz'.format(Splitting(125e-6, 0, lex)[0]), markersize = 10, alpha = 0.7)\n",
    "plt.xlabel('$l$')\n",
    "plt.ylabel('$Δω$ (THz)')\n",
    "plt.legend(loc = 'best')\n",
    "plt.show()"
   ]
  },
  {
   "cell_type": "markdown",
   "metadata": {},
   "source": [
    "Tomar em consideração que para variar de (186-205)THz ou (1460-1610)nm temos que usar valores de $l$ que vão de (700-780)"
   ]
  },
  {
   "cell_type": "code",
   "execution_count": null,
   "metadata": {},
   "outputs": [],
   "source": [
    "# a = [1,2]\n",
    "# b = [3,4]\n",
    "# c = []\n",
    "# c.append(a+b)\n",
    "# np.size(c)"
   ]
  },
  {
   "cell_type": "code",
   "execution_count": null,
   "metadata": {},
   "outputs": [],
   "source": [
    "def ω_spl(R, ϵ, l):\n",
    "    ω_spl = []\n",
    "    for ii in np.arange(len(l)):\n",
    "        ω_spl.append(Splitting(R, ϵ, l[ii]))\n",
    "#         Δω = []\n",
    "#         for jj in np.arange(l[ii]):\n",
    "#             ω0 = 1e-12 * (c/1610e-9 + l[ii]*FSR) # in MHz\n",
    "#             Δω.append(ω0 - ω0 * (ϵ/6) * (1-3*np.power(jj/l[ii], 2)))\n",
    "#         return Δω\n",
    "#     ω0.append(Δω[ii])\n",
    "    return ω_spl\n",
    "\n",
    "\n",
    "R = 125e-6\n",
    "l = np.arange(5, 10, 1)\n",
    "ϵ = 0.01\n",
    "\n",
    "# for ii in np.arange(len(l)):\n",
    "#     plt.plot(np.arange(len(ω_spl(R, ϵ, l)[ii])), ω_spl(R, ϵ, l)[ii], 'o')\n",
    "# plt.show()\n",
    "\n",
    "ω_spl(R, 0.01, l)\n",
    "\n",
    "\n",
    "# def Transm_Split(ω, ω0, η, κ):\n",
    "#     T = 1\n",
    "#     for ii in np.arange(len(ω0)):\n",
    "#         T = T + (4*η*(η-1) * np.power(κ, 2)) / (np.power(κ, 2) + 4*np.power(ω-ω0[ii], 2))\n",
    "#     return T\n",
    "\n",
    "# # Example:\n",
    "# κ = 2e3 # in MHz\n",
    "# ω = np.arange(ω0[0]-1e5, ω0[-1]+1e5, 2)\n",
    "# plt.plot(1e-6*ω, Transm_Split(ω, ω0, 0.5, κ), linewidth = '2')\n",
    "# plt.xlabel('$ω$ (GHz)')\n",
    "# plt.ylabel('Normalized Transm.')\n",
    "# # plt.legend(loc='best')\n",
    "# plt.show()"
   ]
  },
  {
   "cell_type": "code",
   "execution_count": null,
   "metadata": {},
   "outputs": [],
   "source": [
    "R = 125e-6\n",
    "FSR = c / (2*pi*SiO2().n(1550)*R)\n",
    "l = np.arange(4)\n",
    "\n",
    "ω0 = 1e-6 * (c/1610e-9 + l*FSR) # in MHz\n",
    "\n",
    "def Transm_Split(ω, ω0, η, κ):\n",
    "    T = 1\n",
    "    for ii in np.arange(len(ω0)):\n",
    "        T = T + (4*η*(η-1) * np.power(κ, 2)) / (np.power(κ, 2) + 4*np.power(ω-ω0[ii], 2))\n",
    "    return T\n",
    "\n",
    "# Example:\n",
    "κ = 2e3 # in MHz\n",
    "ω = np.arange(ω0[0]-1e5, ω0[-1]+1e5, 2)\n",
    "plt.plot(1e-6*ω, Transm_Split(ω, ω0, 0.5, κ), linewidth = 3)\n",
    "plt.xlabel('$ω$ (THz)')\n",
    "plt.ylabel('Norm. Trans.')\n",
    "# plt.legend(loc='best')\n",
    "plt.show()"
   ]
  }
 ],
 "metadata": {
  "kernelspec": {
   "display_name": "Python 3",
   "language": "python",
   "name": "python3"
  },
  "language_info": {
   "codemirror_mode": {
    "name": "ipython",
    "version": 3
   },
   "file_extension": ".py",
   "mimetype": "text/x-python",
   "name": "python",
   "nbconvert_exporter": "python",
   "pygments_lexer": "ipython3",
   "version": "3.7.4"
  }
 },
 "nbformat": 4,
 "nbformat_minor": 4
}
