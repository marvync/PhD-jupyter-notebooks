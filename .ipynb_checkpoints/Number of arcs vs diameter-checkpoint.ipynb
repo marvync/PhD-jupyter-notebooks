{
 "cells": [
  {
   "cell_type": "code",
   "execution_count": 1,
   "metadata": {},
   "outputs": [],
   "source": [
    "import numpy as np\n",
    "import pandas as pd\n",
    "from matplotlib import rcParams\n",
    "import matplotlib.pyplot as plt"
   ]
  },
  {
   "cell_type": "code",
   "execution_count": 2,
   "metadata": {},
   "outputs": [],
   "source": [
    "rcParams['font.family'] = 'sans-serif'\n",
    "rcParams['font.sans-serif'] = ['Arial']\n",
    "rcParams['font.size'] = '9'\n",
    "rcParams['font.style'] = 'normal'\n",
    "rcParams['font.weight'] = 'medium'\n",
    "# rcParams['pdf.fonttype'] = '42'\n",
    "\n",
    "# rcParams['axes.autolimit_mode'] = 'round_numbers'\n",
    "rcParams['axes.xmargin'] = 0.1\n",
    "rcParams['axes.ymargin'] = 0.1\n",
    "rcParams['axes.axisbelow'] = True\n",
    "\n",
    "rcParams['axes.grid'] = True\n",
    "rcParams['grid.linestyle'] = ':'\n",
    "rcParams['grid.linewidth'] = 0.8\n",
    "rcParams['grid.alpha'] = 0.5\n",
    "\n",
    "rcParams['lines.linewidth'] = 1\n",
    "\n",
    "rcParams['xtick.direction'] = 'in'\n",
    "rcParams['ytick.direction'] = 'in'\n",
    "\n",
    "rcParams['svg.fonttype'] = 'none'\n",
    "rcParams[\"figure.frameon\"] = True\n",
    "# rcParams['savefig.bbox'] = 'tight'\n",
    "# rcParams['savefig.transparent'] = True\n",
    "\n",
    "# rcParams[\"figure.figsize\"] = [6.4, 4.8]\n",
    "# rcParams['figure.autolayout'] = True\n",
    "\n",
    "def cm2inch(*tupl):\n",
    "    inch = 2.54\n",
    "    if isinstance(tupl[0], tuple):\n",
    "        return tuple(i/inch for i in tupl[0])\n",
    "    else:\n",
    "        return tuple(i/inch for i in tupl)\n",
    "    \n",
    "path_fig = '/home/marvyn/GDrive/m144595@dac.unicamp.br/LPD Team/Papers/Journals/2020 - Marvyn - Tailoring GVD/Supplementary/Figures/'"
   ]
  },
  {
   "cell_type": "code",
   "execution_count": 25,
   "metadata": {},
   "outputs": [
    {
     "data": {
      "image/png": "[encoded data removed]",
      "text/plain": [
       "<Figure size 155.906x113.386 with 1 Axes>"
      ]
     },
     "metadata": {
      "needs_background": "light"
     },
     "output_type": "display_data"
    }
   ],
   "source": [
    "df = pd.DataFrame()\n",
    "df['diameter'] = [165, 175, 190, 211.5, 224, 233, 239, 238, 250, 251, 250, 261, 268, 272, 270]\n",
    "df['arc'] = np.linspace(1, df.diameter.size, df.diameter.size)\n",
    "\n",
    "plt.figure(figsize=cm2inch(5.5, 4))\n",
    "plt.errorbar(df.arc, df.diameter, label='Sphere diameter', yerr=10, fmt='o', c='b', ecolor='b', ms=2, elinewidth=1.2)\n",
    "plt.xticks([4, 12])\n",
    "plt.yticks([180, 250])\n",
    "plt.xlabel('Number of arcs')\n",
    "plt.ylabel('Diameter (μm)')\n",
    "plt.tight_layout()\n",
    "\n",
    "# plt.savefig(path_fig+'arcs_diameter_sphere.svg')\n",
    "plt.show()"
   ]
  }
 ],
 "metadata": {
  "kernelspec": {
   "display_name": "Python 3",
   "language": "python",
   "name": "python3"
  },
  "language_info": {
   "codemirror_mode": {
    "name": "ipython",
    "version": 3
   },
   "file_extension": ".py",
   "mimetype": "text/x-python",
   "name": "python",
   "nbconvert_exporter": "python",
   "pygments_lexer": "ipython3",
   "version": "3.7.4"
  }
 },
 "nbformat": 4,
 "nbformat_minor": 4
}
