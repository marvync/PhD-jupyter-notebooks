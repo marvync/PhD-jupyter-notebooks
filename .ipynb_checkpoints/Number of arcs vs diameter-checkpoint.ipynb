{
 "cells": [
  {
   "cell_type": "code",
   "execution_count": 1,
   "metadata": {},
   "outputs": [],
   "source": [
    "import numpy as np\n",
    "import pandas as pd\n",
    "\n",
    "from matplotlib import rcParams\n",
    "from matplotlib import pyplot as plt\n",
    "from SettingPLOTs import *\n",
    "\n",
    "pathfig = '/home/marvyn/GDrive/marvyn.inga@gmail.com/LPD_IFGW_UNICAMP/PhD-jupyter-notebooks/Figures/'"
   ]
  },
  {
   "cell_type": "code",
   "execution_count": 7,
   "metadata": {},
   "outputs": [
    {
     "data": {
      "image/png": "[encoded data removed]",
      "text/plain": [
       "<Figure size 198.425x141.732 with 1 Axes>"
      ]
     },
     "metadata": {
      "needs_background": "light"
     },
     "output_type": "display_data"
    }
   ],
   "source": [
    "df = pd.DataFrame()\n",
    "df['diameter'] = [165, 175, 190, 211.5, 224, 233, 239, 238, 250, 251, 250, 261, 268, 272, 270]\n",
    "df['arc'] = np.linspace(1, df.diameter.size, df.diameter.size)\n",
    "\n",
    "plt.figure(figsize=cm2inch(7,5))\n",
    "plt.errorbar(df.arc, df.diameter, label='Sphere diameter', yerr=10, fmt='o', c='mediumblue', ecolor='mediumblue', ms=5, elinewidth=1.4)\n",
    "\n",
    "plt.xticks([2, 6, 10, 14])\n",
    "plt.yticks([170, 220, 270])\n",
    "plt.xlabel('Number of arcs')\n",
    "plt.ylabel('Diameter (μm)')\n",
    "plt.tight_layout()\n",
    "\n",
    "# plt.savefig(pathfig+'arcs_vs_diameter.svg')\n",
    "plt.show()"
   ]
  }
 ],
 "metadata": {
  "kernelspec": {
   "display_name": "Python 3",
   "language": "python",
   "name": "python3"
  },
  "language_info": {
   "codemirror_mode": {
    "name": "ipython",
    "version": 3
   },
   "file_extension": ".py",
   "mimetype": "text/x-python",
   "name": "python",
   "nbconvert_exporter": "python",
   "pygments_lexer": "ipython3",
   "version": "3.7.4"
  }
 },
 "nbformat": 4,
 "nbformat_minor": 4
}
