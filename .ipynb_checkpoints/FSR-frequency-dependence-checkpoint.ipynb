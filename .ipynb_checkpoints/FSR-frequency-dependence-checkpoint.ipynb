{
 "cells": [
  {
   "cell_type": "markdown",
   "metadata": {},
   "source": [
    "### Loading Packages"
   ]
  },
  {
   "cell_type": "code",
   "execution_count": 6,
   "metadata": {},
   "outputs": [],
   "source": [
    "import numpy as np\n",
    "import pandas as pd\n",
    "\n",
    "from sympy import *\n",
    "from scipy import constants, special\n",
    "from matplotlib import pyplot as plt\n",
    "from SettingPLOTs import *\n",
    "\n",
    "c = constants.c\n",
    "π = constants.pi"
   ]
  },
  {
   "cell_type": "markdown",
   "metadata": {},
   "source": [
    "### Tweak Figures"
   ]
  },
  {
   "cell_type": "markdown",
   "metadata": {},
   "source": [
    "### Silica Sellmeier equation\n",
    "\n",
    "References:\n",
    "\n",
    "- https://refractiveindex.info/?shelf=main&book=SiO2&page=Malitson\n",
    "- https://en.wikipedia.org/wiki/Sellmeier_equation"
   ]
  },
  {
   "cell_type": "markdown",
   "metadata": {},
   "source": [
    "The usual form of the equation for glasses is:\n",
    "\n",
    "$$n^2=1+\\frac{B_1λ^2}{λ^2-C_1^2}+\\frac{B_2λ^2}{λ^2-C_2^2}+\\frac{B_3λ^2}{λ^2-C_3^2}$$\n",
    "\n",
    "where $n$ is the refractive index, $\\lambda$ is the wavelength, and $B_1, B_2, B_3$ and $C_1, C_2, C_3$ are experimentally determined Sellmeier coefficients."
   ]
  },
  {
   "cell_type": "code",
   "execution_count": 7,
   "metadata": {},
   "outputs": [],
   "source": [
    "B1, B2, B3 = 0.6961663, 0.4079426, 0.8974794\n",
    "C1, C2, C3 = 0.0684043, 0.1162414, 9.896161 # in μm\n",
    "\n",
    "x, r = symbols('x r')\n",
    "\n",
    "n = sqrt(1+(B1*x**2)/(x**2-C1**2)+(B2*x**2)/(x**2-C2**2)+(B3*x**2)/(x**2-C3**2))\n",
    "ng = n - x*diff(n, x)"
   ]
  },
  {
   "cell_type": "code",
   "execution_count": 110,
   "metadata": {},
   "outputs": [
    {
     "data": {
      "text/plain": [
       "234.21285781250003"
      ]
     },
     "execution_count": 110,
     "metadata": {},
     "output_type": "execute_result"
    }
   ],
   "source": [
    "ν[np.where(ng==np.min(ng))[0][0]]"
   ]
  },
  {
   "cell_type": "code",
   "execution_count": 132,
   "metadata": {},
   "outputs": [
    {
     "data": {
      "image/png": "[encoded data removed]",
      "text/plain": [
       "<Figure size 425.197x141.732 with 2 Axes>"
      ]
     },
     "metadata": {
      "needs_background": "light"
     },
     "output_type": "display_data"
    }
   ],
   "source": [
    "dλ = 5e-2\n",
    "λ = np.arange(0.43, 3.1, dλ) # in μm\n",
    "ν = (1e-6*c/λ) # in THz\n",
    "n = lambdify(x, n, 'numpy')(λ)\n",
    "ng = lambdify(x, ng, 'numpy')(λ)\n",
    "\n",
    "fig, axs = plt.subplots(1,2,figsize=cm2inch(15,5))\n",
    "\n",
    "axs[0].plot(ν, n)\n",
    "axs[0].plot(ν, ng)\n",
    "axs[0].vlines(x=ν[np.where(ng==np.min(ng))[0][0]], ymin=np.min(n), ymax=np.max(ng), color='k', ls='--', lw=0.8)\n",
    "axs[0].axvspan(np.min(ν), ν[np.where(ng==np.min(ng))[0][0]], color='red', alpha=0.08, lw=0)\n",
    "axs[0].axvspan(ν[np.where(ng==np.min(ng))[0][0]], np.max(ν), color='green', alpha=0.08, lw=0)\n",
    "\n",
    "axs[0].set_xlabel('Frequency (THz)')\n",
    "axs[0].set_ylabel(r'$n (λ)$, $n_g (λ)$')\n",
    "\n",
    "axs[1]\n",
    "\n",
    "plt.show()"
   ]
  }
 ],
 "metadata": {
  "kernelspec": {
   "display_name": "Python 3",
   "language": "python",
   "name": "python3"
  },
  "language_info": {
   "codemirror_mode": {
    "name": "ipython",
    "version": 3
   },
   "file_extension": ".py",
   "mimetype": "text/x-python",
   "name": "python",
   "nbconvert_exporter": "python",
   "pygments_lexer": "ipython3",
   "version": "3.8.5"
  }
 },
 "nbformat": 4,
 "nbformat_minor": 4
}
