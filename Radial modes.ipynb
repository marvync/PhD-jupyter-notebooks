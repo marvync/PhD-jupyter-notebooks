{
 "cells": [
  {
   "cell_type": "markdown",
   "metadata": {},
   "source": [
    "### Radial Modes in a Microspheres with R=130 μm"
   ]
  },
  {
   "cell_type": "code",
   "execution_count": 1,
   "metadata": {
    "button": false,
    "new_sheet": false,
    "run_control": {
     "read_only": false
    }
   },
   "outputs": [],
   "source": [
    "import os\n",
    "import seaborn as sns\n",
    "import numpy as np\n",
    "import pandas as pd\n",
    "import matplotlib.pyplot as plt\n",
    "\n",
    "from scipy import constants, optimize\n",
    "from SettingPLOTs import *"
   ]
  },
  {
   "cell_type": "code",
   "execution_count": 2,
   "metadata": {
    "button": false,
    "new_sheet": false,
    "run_control": {
     "read_only": false
    }
   },
   "outputs": [
    {
     "name": "stdout",
     "output_type": "stream",
     "text": [
      "Pasta atual: /home/marvyn/GDrive/marvyn.inga@gmail.com/LPD_IFGW_UNICAMP/PhD-jupyter-notebooks\n"
     ]
    }
   ],
   "source": [
    "print('Pasta atual:', os.getcwd())  "
   ]
  },
  {
   "cell_type": "markdown",
   "metadata": {},
   "source": [
    "### TE Radial Modes"
   ]
  },
  {
   "cell_type": "code",
   "execution_count": 3,
   "metadata": {
    "button": false,
    "new_sheet": false,
    "run_control": {
     "read_only": false
    }
   },
   "outputs": [
    {
     "name": "stdout",
     "output_type": "stream",
     "text": [
      "/home/marvyn/GDrive/m144595@dac.unicamp.br/LPD Team/Experiments/Microspheres/Comsol/1D_sims_Sellmeier/TE_modes/Microspheres-TE-Radial-Modes.csv\n",
      "/home/marvyn/GDrive/m144595@dac.unicamp.br/LPD Team/Experiments/Microspheres/Comsol/1D_sims_Sellmeier/TM_modes/Microspheres-TM-Radial-Modes.csv\n"
     ]
    }
   ],
   "source": [
    "path_TE = '/home/marvyn/GDrive/m144595@dac.unicamp.br/LPD Team/Experiments/Microspheres/Comsol/1D_sims_Sellmeier/TE_modes/'\n",
    "path_TM = '/home/marvyn/GDrive/m144595@dac.unicamp.br/LPD Team/Experiments/Microspheres/Comsol/1D_sims_Sellmeier/TM_modes/'\n",
    "\n",
    "file_name_TE = 'Microspheres-TE-Radial-Modes'\n",
    "file_name_TM = 'Microspheres-TM-Radial-Modes'\n",
    "extension = '.csv'\n",
    "\n",
    "full_path_TE = os.path.join(path_TE,file_name_TE+extension)\n",
    "full_path_TM = os.path.join(path_TM,file_name_TM+extension)\n",
    "print(full_path_TE)\n",
    "print(full_path_TM)"
   ]
  },
  {
   "cell_type": "code",
   "execution_count": 4,
   "metadata": {},
   "outputs": [
    {
     "data": {
      "text/html": [
       "<div>\n",
       "<style scoped>\n",
       "    .dataframe tbody tr th:only-of-type {\n",
       "        vertical-align: middle;\n",
       "    }\n",
       "\n",
       "    .dataframe tbody tr th {\n",
       "        vertical-align: top;\n",
       "    }\n",
       "\n",
       "    .dataframe thead th {\n",
       "        text-align: right;\n",
       "    }\n",
       "</style>\n",
       "<table border=\"1\" class=\"dataframe\">\n",
       "  <thead>\n",
       "    <tr style=\"text-align: right;\">\n",
       "      <th></th>\n",
       "      <th>% R</th>\n",
       "      <th>u/maxop1(abs(u)) (1) @ lambda=98</th>\n",
       "      <th>u/maxop1(abs(u)) (1) @ lambda=99</th>\n",
       "      <th>u/maxop1(abs(u)) (1) @ lambda=100</th>\n",
       "    </tr>\n",
       "  </thead>\n",
       "  <tbody>\n",
       "    <tr>\n",
       "      <th>0</th>\n",
       "      <td>8.00e-05</td>\n",
       "      <td>0.00e+00</td>\n",
       "      <td>0.00e+00</td>\n",
       "      <td>0.00e+00</td>\n",
       "    </tr>\n",
       "    <tr>\n",
       "      <th>1</th>\n",
       "      <td>8.00e-05</td>\n",
       "      <td>-8.38e-19</td>\n",
       "      <td>2.64e-17</td>\n",
       "      <td>-5.38e-19</td>\n",
       "    </tr>\n",
       "    <tr>\n",
       "      <th>2</th>\n",
       "      <td>8.00e-05</td>\n",
       "      <td>-2.81e-18</td>\n",
       "      <td>4.57e-17</td>\n",
       "      <td>-1.78e-18</td>\n",
       "    </tr>\n",
       "    <tr>\n",
       "      <th>3</th>\n",
       "      <td>8.00e-05</td>\n",
       "      <td>-6.44e-19</td>\n",
       "      <td>3.63e-17</td>\n",
       "      <td>-1.78e-18</td>\n",
       "    </tr>\n",
       "    <tr>\n",
       "      <th>4</th>\n",
       "      <td>8.00e-05</td>\n",
       "      <td>-2.81e-18</td>\n",
       "      <td>4.19e-17</td>\n",
       "      <td>-1.82e-18</td>\n",
       "    </tr>\n",
       "  </tbody>\n",
       "</table>\n",
       "</div>"
      ],
      "text/plain": [
       "                   % R  u/maxop1(abs(u)) (1) @ lambda=98  \\\n",
       "0             8.00e-05                          0.00e+00   \n",
       "1             8.00e-05                         -8.38e-19   \n",
       "2             8.00e-05                         -2.81e-18   \n",
       "3             8.00e-05                         -6.44e-19   \n",
       "4             8.00e-05                         -2.81e-18   \n",
       "\n",
       "   u/maxop1(abs(u)) (1) @ lambda=99  u/maxop1(abs(u)) (1) @ lambda=100  \n",
       "0                          0.00e+00                           0.00e+00  \n",
       "1                          2.64e-17                          -5.38e-19  \n",
       "2                          4.57e-17                          -1.78e-18  \n",
       "3                          3.63e-17                          -1.78e-18  \n",
       "4                          4.19e-17                          -1.82e-18  "
      ]
     },
     "execution_count": 4,
     "metadata": {},
     "output_type": "execute_result"
    }
   ],
   "source": [
    "pd.options.display.float_format = '{:20,.2e}'.format\n",
    "dataTE = pd.read_csv(full_path_TE, skiprows=[0,1,2,3,4,5,6])\n",
    "\n",
    "dataTE.head()"
   ]
  },
  {
   "cell_type": "code",
   "execution_count": 5,
   "metadata": {
    "button": false,
    "new_sheet": false,
    "run_control": {
     "read_only": false
    }
   },
   "outputs": [
    {
     "data": {
      "text/html": [
       "<div>\n",
       "<style scoped>\n",
       "    .dataframe tbody tr th:only-of-type {\n",
       "        vertical-align: middle;\n",
       "    }\n",
       "\n",
       "    .dataframe tbody tr th {\n",
       "        vertical-align: top;\n",
       "    }\n",
       "\n",
       "    .dataframe thead th {\n",
       "        text-align: right;\n",
       "    }\n",
       "</style>\n",
       "<table border=\"1\" class=\"dataframe\">\n",
       "  <thead>\n",
       "    <tr style=\"text-align: right;\">\n",
       "      <th></th>\n",
       "      <th>r (μm)</th>\n",
       "      <th>Sl3_norm</th>\n",
       "      <th>Sl2_norm</th>\n",
       "      <th>Sl1_norm</th>\n",
       "    </tr>\n",
       "  </thead>\n",
       "  <tbody>\n",
       "    <tr>\n",
       "      <th>0</th>\n",
       "      <td>8.00e+01</td>\n",
       "      <td>0.00e+00</td>\n",
       "      <td>0.00e+00</td>\n",
       "      <td>0.00e+00</td>\n",
       "    </tr>\n",
       "    <tr>\n",
       "      <th>1</th>\n",
       "      <td>8.00e+01</td>\n",
       "      <td>-8.38e-19</td>\n",
       "      <td>2.64e-17</td>\n",
       "      <td>-5.38e-19</td>\n",
       "    </tr>\n",
       "    <tr>\n",
       "      <th>2</th>\n",
       "      <td>8.00e+01</td>\n",
       "      <td>-2.81e-18</td>\n",
       "      <td>4.57e-17</td>\n",
       "      <td>-1.78e-18</td>\n",
       "    </tr>\n",
       "    <tr>\n",
       "      <th>3</th>\n",
       "      <td>8.00e+01</td>\n",
       "      <td>-6.44e-19</td>\n",
       "      <td>3.63e-17</td>\n",
       "      <td>-1.78e-18</td>\n",
       "    </tr>\n",
       "    <tr>\n",
       "      <th>4</th>\n",
       "      <td>8.00e+01</td>\n",
       "      <td>-2.81e-18</td>\n",
       "      <td>4.19e-17</td>\n",
       "      <td>-1.82e-18</td>\n",
       "    </tr>\n",
       "  </tbody>\n",
       "</table>\n",
       "</div>"
      ],
      "text/plain": [
       "                r (μm)             Sl3_norm             Sl2_norm  \\\n",
       "0             8.00e+01             0.00e+00             0.00e+00   \n",
       "1             8.00e+01            -8.38e-19             2.64e-17   \n",
       "2             8.00e+01            -2.81e-18             4.57e-17   \n",
       "3             8.00e+01            -6.44e-19             3.63e-17   \n",
       "4             8.00e+01            -2.81e-18             4.19e-17   \n",
       "\n",
       "              Sl1_norm  \n",
       "0             0.00e+00  \n",
       "1            -5.38e-19  \n",
       "2            -1.78e-18  \n",
       "3            -1.78e-18  \n",
       "4            -1.82e-18  "
      ]
     },
     "execution_count": 5,
     "metadata": {},
     "output_type": "execute_result"
    }
   ],
   "source": [
    "dataTE['% R'] = 1e6*dataTE['% R'] # in μm\n",
    "\n",
    "dataTE.columns = ['r (μm)', 'Sl3_norm', 'Sl2_norm', 'Sl1_norm']\n",
    "dataTE.head()"
   ]
  },
  {
   "cell_type": "code",
   "execution_count": 6,
   "metadata": {},
   "outputs": [
    {
     "data": {
      "image/png": "[encoded data removed]",
      "text/plain": [
       "<Figure size 226.772x113.386 with 1 Axes>"
      ]
     },
     "metadata": {
      "needs_background": "light"
     },
     "output_type": "display_data"
    }
   ],
   "source": [
    "plt.figure(figsize=cm2inch(8,4))\n",
    "\n",
    "plt.plot(dataTE['r (μm)'], dataTE['Sl1_norm'], label=r'$ν$ = 1')\n",
    "plt.plot(dataTE['r (μm)'], dataTE['Sl2_norm'], label=r'$ν$ = 2')\n",
    "plt.plot(dataTE['r (μm)'], dataTE['Sl3_norm'], label=r'$ν$ = 3')\n",
    "\n",
    "plt.axvline(x=130, ls='--', color='k', lw=1.1, alpha=0.8)\n",
    "plt.axvspan(dataTE['r (μm)'].min(), 130, color='lightblue', alpha=.2, lw=0)\n",
    "plt.axvspan(130, dataTE['r (μm)'].max(), color='grey', alpha=0.15, lw=0)\n",
    "plt.xlim(119, 133)\n",
    "plt.xlabel(r'$r$ (μm)')\n",
    "plt.ylim(dataTE['Sl3_norm'].min()-0.1, dataTE['Sl3_norm'].max()+0.1)\n",
    "plt.yticks([])\n",
    "plt.legend(loc='center left', bbox_to_anchor=(1, 0.5), frameon=False)\n",
    "\n",
    "# plt.savefig('Figures/RadialModes-TE.svg')\n",
    "plt.show()"
   ]
  },
  {
   "cell_type": "markdown",
   "metadata": {},
   "source": [
    "### TM Radial Modes"
   ]
  },
  {
   "cell_type": "code",
   "execution_count": 7,
   "metadata": {},
   "outputs": [
    {
     "data": {
      "text/html": [
       "<div>\n",
       "<style scoped>\n",
       "    .dataframe tbody tr th:only-of-type {\n",
       "        vertical-align: middle;\n",
       "    }\n",
       "\n",
       "    .dataframe tbody tr th {\n",
       "        vertical-align: top;\n",
       "    }\n",
       "\n",
       "    .dataframe thead th {\n",
       "        text-align: right;\n",
       "    }\n",
       "</style>\n",
       "<table border=\"1\" class=\"dataframe\">\n",
       "  <thead>\n",
       "    <tr style=\"text-align: right;\">\n",
       "      <th></th>\n",
       "      <th>% R</th>\n",
       "      <th>u/maxop1(abs(u)) (1) @ lambda=97</th>\n",
       "      <th>u/maxop1(abs(u)) (1) @ lambda=99</th>\n",
       "      <th>u/maxop1(abs(u)) (1) @ lambda=100</th>\n",
       "    </tr>\n",
       "  </thead>\n",
       "  <tbody>\n",
       "    <tr>\n",
       "      <th>0</th>\n",
       "      <td>8.00e-05</td>\n",
       "      <td>0.00e+00</td>\n",
       "      <td>0.00e+00</td>\n",
       "      <td>0.00e+00</td>\n",
       "    </tr>\n",
       "    <tr>\n",
       "      <th>1</th>\n",
       "      <td>8.00e-05</td>\n",
       "      <td>2.04e-17</td>\n",
       "      <td>5.63e-18</td>\n",
       "      <td>-3.79e-19</td>\n",
       "    </tr>\n",
       "    <tr>\n",
       "      <th>2</th>\n",
       "      <td>8.00e-05</td>\n",
       "      <td>3.36e-17</td>\n",
       "      <td>5.07e-18</td>\n",
       "      <td>-9.13e-19</td>\n",
       "    </tr>\n",
       "    <tr>\n",
       "      <th>3</th>\n",
       "      <td>8.00e-05</td>\n",
       "      <td>3.08e-17</td>\n",
       "      <td>3.50e-18</td>\n",
       "      <td>-9.89e-19</td>\n",
       "    </tr>\n",
       "    <tr>\n",
       "      <th>4</th>\n",
       "      <td>8.00e-05</td>\n",
       "      <td>3.00e-17</td>\n",
       "      <td>2.97e-18</td>\n",
       "      <td>-8.07e-19</td>\n",
       "    </tr>\n",
       "  </tbody>\n",
       "</table>\n",
       "</div>"
      ],
      "text/plain": [
       "                   % R  u/maxop1(abs(u)) (1) @ lambda=97  \\\n",
       "0             8.00e-05                          0.00e+00   \n",
       "1             8.00e-05                          2.04e-17   \n",
       "2             8.00e-05                          3.36e-17   \n",
       "3             8.00e-05                          3.08e-17   \n",
       "4             8.00e-05                          3.00e-17   \n",
       "\n",
       "   u/maxop1(abs(u)) (1) @ lambda=99  u/maxop1(abs(u)) (1) @ lambda=100  \n",
       "0                          0.00e+00                           0.00e+00  \n",
       "1                          5.63e-18                          -3.79e-19  \n",
       "2                          5.07e-18                          -9.13e-19  \n",
       "3                          3.50e-18                          -9.89e-19  \n",
       "4                          2.97e-18                          -8.07e-19  "
      ]
     },
     "execution_count": 7,
     "metadata": {},
     "output_type": "execute_result"
    }
   ],
   "source": [
    "dataTM = pd.read_csv(full_path_TM, skiprows=[0,1,2,3,4,5,6])\n",
    "\n",
    "dataTM.head()"
   ]
  },
  {
   "cell_type": "code",
   "execution_count": 8,
   "metadata": {},
   "outputs": [
    {
     "data": {
      "text/html": [
       "<div>\n",
       "<style scoped>\n",
       "    .dataframe tbody tr th:only-of-type {\n",
       "        vertical-align: middle;\n",
       "    }\n",
       "\n",
       "    .dataframe tbody tr th {\n",
       "        vertical-align: top;\n",
       "    }\n",
       "\n",
       "    .dataframe thead th {\n",
       "        text-align: right;\n",
       "    }\n",
       "</style>\n",
       "<table border=\"1\" class=\"dataframe\">\n",
       "  <thead>\n",
       "    <tr style=\"text-align: right;\">\n",
       "      <th></th>\n",
       "      <th>r (μm)</th>\n",
       "      <th>Tl3_norm</th>\n",
       "      <th>Tl2_norm</th>\n",
       "      <th>Tl1_norm</th>\n",
       "    </tr>\n",
       "  </thead>\n",
       "  <tbody>\n",
       "    <tr>\n",
       "      <th>0</th>\n",
       "      <td>8.00e+01</td>\n",
       "      <td>0.00e+00</td>\n",
       "      <td>0.00e+00</td>\n",
       "      <td>0.00e+00</td>\n",
       "    </tr>\n",
       "    <tr>\n",
       "      <th>1</th>\n",
       "      <td>8.00e+01</td>\n",
       "      <td>2.04e-17</td>\n",
       "      <td>5.63e-18</td>\n",
       "      <td>-3.79e-19</td>\n",
       "    </tr>\n",
       "    <tr>\n",
       "      <th>2</th>\n",
       "      <td>8.00e+01</td>\n",
       "      <td>3.36e-17</td>\n",
       "      <td>5.07e-18</td>\n",
       "      <td>-9.13e-19</td>\n",
       "    </tr>\n",
       "    <tr>\n",
       "      <th>3</th>\n",
       "      <td>8.00e+01</td>\n",
       "      <td>3.08e-17</td>\n",
       "      <td>3.50e-18</td>\n",
       "      <td>-9.89e-19</td>\n",
       "    </tr>\n",
       "    <tr>\n",
       "      <th>4</th>\n",
       "      <td>8.00e+01</td>\n",
       "      <td>3.00e-17</td>\n",
       "      <td>2.97e-18</td>\n",
       "      <td>-8.07e-19</td>\n",
       "    </tr>\n",
       "  </tbody>\n",
       "</table>\n",
       "</div>"
      ],
      "text/plain": [
       "                r (μm)             Tl3_norm             Tl2_norm  \\\n",
       "0             8.00e+01             0.00e+00             0.00e+00   \n",
       "1             8.00e+01             2.04e-17             5.63e-18   \n",
       "2             8.00e+01             3.36e-17             5.07e-18   \n",
       "3             8.00e+01             3.08e-17             3.50e-18   \n",
       "4             8.00e+01             3.00e-17             2.97e-18   \n",
       "\n",
       "              Tl1_norm  \n",
       "0             0.00e+00  \n",
       "1            -3.79e-19  \n",
       "2            -9.13e-19  \n",
       "3            -9.89e-19  \n",
       "4            -8.07e-19  "
      ]
     },
     "execution_count": 8,
     "metadata": {},
     "output_type": "execute_result"
    }
   ],
   "source": [
    "dataTM['% R'] = 1e6*dataTM['% R'] # in μm\n",
    "\n",
    "dataTM.columns = ['r (μm)', 'Tl3_norm', 'Tl2_norm', 'Tl1_norm']\n",
    "dataTM.head()"
   ]
  },
  {
   "cell_type": "code",
   "execution_count": 10,
   "metadata": {},
   "outputs": [
    {
     "data": {
      "image/png": "[encoded data removed]",
      "text/plain": [
       "<Figure size 226.772x113.386 with 1 Axes>"
      ]
     },
     "metadata": {
      "needs_background": "light"
     },
     "output_type": "display_data"
    }
   ],
   "source": [
    "plt.figure(figsize=cm2inch(8,4))\n",
    "\n",
    "plt.plot(dataTM['r (μm)'], dataTM['Tl1_norm'], label=r'$ν$ = 1')\n",
    "plt.plot(dataTM['r (μm)'], dataTM['Tl2_norm'], label=r'$ν$ = 2')\n",
    "plt.plot(dataTM['r (μm)'], dataTM['Tl3_norm'], label=r'$ν$ = 3')\n",
    "\n",
    "plt.axvline(x=130, ls='--', color='k', lw=1.1, alpha=0.8)\n",
    "plt.axvspan(dataTM['r (μm)'].min(), 130, color='lightblue', alpha=.2, lw=0)\n",
    "plt.axvspan(130, dataTM['r (μm)'].max(), color='grey', alpha=0.15, lw=0)\n",
    "plt.xlim(119, 133)\n",
    "plt.xlabel(r'$r$ (μm)')\n",
    "plt.ylim(dataTM['Tl3_norm'].min()-0.1, dataTM['Tl3_norm'].max()+0.1)\n",
    "plt.yticks([])\n",
    "plt.legend(loc='center left', bbox_to_anchor=(1, 0.5), frameon=False)\n",
    "\n",
    "# plt.savefig('Figures/RadialModes-TM.svg')\n",
    "plt.show()"
   ]
  },
  {
   "cell_type": "markdown",
   "metadata": {},
   "source": [
    "### Comparing Radial Fundamental Modes TE and TM"
   ]
  },
  {
   "cell_type": "code",
   "execution_count": 86,
   "metadata": {},
   "outputs": [
    {
     "data": {
      "image/png": "[encoded data removed]",
      "text/plain": [
       "<Figure size 524.409x127.559 with 3 Axes>"
      ]
     },
     "metadata": {
      "needs_background": "light"
     },
     "output_type": "display_data"
    }
   ],
   "source": [
    "n = 3\n",
    "fig, axs = plt.subplots(1,n,figsize=cm2inch(18.5,4.5), sharey=True)\n",
    "plt.subplots_adjust(wspace=0.08)\n",
    "\n",
    "axs[0].plot(dataTE['r (μm)'], dataTE['Sl1_norm'], label=r'$n$ = 1', c='royalblue')\n",
    "axs[1].plot(dataTE['r (μm)'], dataTE['Sl2_norm'], label=r'$n$ = 2', c='royalblue')\n",
    "axs[2].plot(dataTE['r (μm)'], dataTE['Sl3_norm'], label=r'$n$ = 3', c='royalblue')\n",
    "\n",
    "for ii in range(n):\n",
    "    axs[ii].set_xlim(119, 133)\n",
    "    axs[ii].axvline(x=130, ls='--', color='k', lw=1.1, alpha=0.8)\n",
    "    axs[ii].axvspan(dataTE['r (μm)'].min(), 130, color='lightblue', alpha=.2, lw=0)\n",
    "    axs[ii].axvspan(130, dataTE['r (μm)'].max(), color='grey', alpha=0.15, lw=0)\n",
    "    axs[ii].set_xlabel(r'$r$ (μm)')\n",
    "    axs[ii].set_ylim(dataTE['Sl3_norm'].min()-0.1, dataTE['Sl3_norm'].max()+0.1)\n",
    "    axs[ii].legend(loc='lower left', frameon=False)\n",
    "\n",
    "axs[0].set_ylabel(r'$u_l(r)$ / $u_l^{max}(r)$')\n",
    "\n",
    "# plt.savefig('Figures/RadialModes-Microspheres.svg')\n",
    "plt.show()"
   ]
  }
 ],
 "metadata": {
  "kernelspec": {
   "display_name": "Python 3",
   "language": "python",
   "name": "python3"
  },
  "language_info": {
   "codemirror_mode": {
    "name": "ipython",
    "version": 3
   },
   "file_extension": ".py",
   "mimetype": "text/x-python",
   "name": "python",
   "nbconvert_exporter": "python",
   "pygments_lexer": "ipython3",
   "version": "3.8.5"
  }
 },
 "nbformat": 4,
 "nbformat_minor": 4
}
