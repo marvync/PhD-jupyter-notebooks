{
 "cells": [
  {
   "cell_type": "markdown",
   "metadata": {},
   "source": [
    "## Caution!\n",
    "\n",
    "We are not being formals at the moment of use equations and generate figures. Some figures will only be used to show definitions of optical microcavities like full width at half maximum, optical quality factors and dispersion."
   ]
  },
  {
   "cell_type": "code",
   "execution_count": 1,
   "metadata": {},
   "outputs": [],
   "source": [
    "import numpy as np\n",
    "\n",
    "from matplotlib import pyplot as plt\n",
    "from matplotlib import transforms as mtransforms\n",
    "from sympy import symbols, sqrt, diff, lambdify, Abs\n",
    "from scipy import constants\n",
    "\n",
    "from SettingPLOTs import *\n",
    "\n",
    "π = constants.pi\n",
    "c = constants.c\n",
    "\n",
    "pathfig = '/home/marvyn/GDrive/marvyn.inga@gmail.com/LPD_IFGW_UNICAMP/PhD-jupyter-notebooks/Figures/'"
   ]
  },
  {
   "cell_type": "markdown",
   "metadata": {},
   "source": [
    "## Cavity transmission:\n",
    "\n",
    "$$T(\\omega) = 1 + \\sum_{j=1}^{N}\\frac{4 \\eta_j (\\eta_j-1)\\kappa_j^2}{\\kappa_j^2 + 4(\\omega-\\omega_j)^2}$$\n",
    "\n",
    "$$T(\\nu) = 1 + \\sum_{j=1}^{N}\\frac{4 \\eta_j (\\eta_j-1)\\kappa_j^{*2}}{\\kappa_j^{*2} + 4(\\nu-\\nu_j)^2} \\hspace{0.5cm}, \\hspace{0.5cm} \\kappa_j^{*} = \\frac{\\kappa_j}{2\\pi}$$\n",
    "\n",
    "where $N$ is the number of resonances and ($\\omega_j$, $\\nu_j$, $\\eta_j$, $\\kappa_j$) corresponde to each resonance."
   ]
  },
  {
   "cell_type": "code",
   "execution_count": 2,
   "metadata": {},
   "outputs": [],
   "source": [
    "def Transmission(ν, νj, ηj, κj):\n",
    "    \"\"\"\n",
    "    All input parameters are vectors.\n",
    "    Return the cavity normalized transmission.\n",
    "    \"\"\"\n",
    "    T = 1\n",
    "    for νj, ηj, κj in zip(νj, ηj, κj):\n",
    "        T = T + 4*ηj*(ηj-1)*κj**2 / (κj**2 + 4*(ν-νj)**2)\n",
    "    return T"
   ]
  },
  {
   "cell_type": "markdown",
   "metadata": {},
   "source": [
    "### 1 peak"
   ]
  },
  {
   "cell_type": "code",
   "execution_count": 3,
   "metadata": {},
   "outputs": [
    {
     "data": {
      "image/png": "[encoded data removed]",
      "text/plain": [
       "<Figure size 170.079x113.386 with 1 Axes>"
      ]
     },
     "metadata": {
      "needs_background": "light"
     },
     "output_type": "display_data"
    }
   ],
   "source": [
    "νi, νf, step = 192, 198, 1e-2 # Frequency in THz\n",
    "\n",
    "ν = np.arange(νi, νf, step)\n",
    "\n",
    "N = 1 # Number of resonances\n",
    "νj = [(νf+νi)/2]\n",
    "ηj = [0.5]\n",
    "κj = [0.8]\n",
    "\n",
    "fig, ax = plt.subplots(figsize=cm2inch(6,4))\n",
    "\n",
    "T = Transmission(ν,νj,ηj,κj)\n",
    "ax.plot(ν, T, c='mediumblue')\n",
    "\n",
    "trans = mtransforms.blended_transform_factory(ax.transData, ax.transAxes)\n",
    "ax.fill_between(ν, -0.1, 1.1, where=T<=0.5, facecolor='indigo', alpha=0.2, transform=trans)\n",
    "\n",
    "ax.set_xlabel('Frequency')\n",
    "ax.set_ylabel('Norm. Trans.')\n",
    "\n",
    "plt.xticks(νj, [r'$ν_0$'])\n",
    "# plt.savefig(pathfig+'Cavity-transmission-1-peak.svg')\n",
    "plt.show()"
   ]
  },
  {
   "cell_type": "markdown",
   "metadata": {},
   "source": [
    "### 2 peaks"
   ]
  },
  {
   "cell_type": "code",
   "execution_count": 4,
   "metadata": {},
   "outputs": [
    {
     "data": {
      "image/png": "[encoded data removed]",
      "text/plain": [
       "<Figure size 283.465x113.386 with 1 Axes>"
      ]
     },
     "metadata": {
      "needs_background": "light"
     },
     "output_type": "display_data"
    }
   ],
   "source": [
    "νi, νf, step = 190, 210, 1e-2 # Frequency in THz\n",
    "\n",
    "ν = np.arange(νi, νf, step)\n",
    "\n",
    "N = 2 # Number of resonances\n",
    "δ = 5 # Avoid peaks in the extremes of the intervale of frequencies.\n",
    "νj = np.linspace(νi+δ, νf-δ, N)\n",
    "ηj = [0.5, 0.5] # We are choosing the same ηj for all resonances.\n",
    "κj = [1.5, 0.5] # We are choosing the same κj for all resonances.\n",
    "\n",
    "label = []\n",
    "for ii in range(N):\n",
    "    label.append(r'$Δν_{}$'.format(ii+1))\n",
    "\n",
    "fig, ax = plt.subplots(figsize=cm2inch(10,4))\n",
    "\n",
    "T = Transmission(ν,νj,ηj,κj)\n",
    "ax.plot(ν, T, c='mediumblue')\n",
    "\n",
    "trans = mtransforms.blended_transform_factory(ax.transData, ax.transAxes)\n",
    "ax.fill_between(ν, -0.15, 1.15, where=T<=0.5, facecolor='indigo', alpha=0.15, transform=trans)\n",
    "\n",
    "ax.set_xlabel('Frequency')\n",
    "ax.set_ylabel('Norm. Trans.')\n",
    "# ax.set_yticks([])\n",
    "\n",
    "plt.xticks(νj, label)\n",
    "# plt.savefig(pathfig+'Cavity-transmission-2-peaks.svg')\n",
    "plt.show()"
   ]
  },
  {
   "cell_type": "code",
   "execution_count": 225,
   "metadata": {},
   "outputs": [
    {
     "data": {
      "image/png": "[encoded data removed]",
      "text/plain": [
       "<Figure size 453.543x113.386 with 2 Axes>"
      ]
     },
     "metadata": {
      "needs_background": "light"
     },
     "output_type": "display_data"
    }
   ],
   "source": [
    "νi, νf, step = 190, 210, 1e-2 # Frequency in THz\n",
    "\n",
    "ν = np.arange(νi, νf, step)\n",
    "\n",
    "N = 2 # Number of resonances\n",
    "δ = 5 # Avoid peaks in the extremes of the intervale of frequencies.\n",
    "νj = np.linspace(νi+δ, νf-δ, N)\n",
    "\n",
    "label = []\n",
    "for ii in range(N):\n",
    "    label.append(r'$Δν_{}$'.format(ii+1))\n",
    "\n",
    "fig, (ax1, ax2) = plt.subplots(1, 2, figsize=cm2inch(16,4), sharey=True)\n",
    "#----------------\n",
    "ηj = 0.5*np.ones(N) # We are choosing the same ηj for all resonances.\n",
    "κj = [2, 0.5] # We are choosing a different κj for each resonances.\n",
    "T = Transmission(ν,νj,ηj,κj)\n",
    "\n",
    "trans = mtransforms.blended_transform_factory(ax1.transData, ax1.transAxes)\n",
    "ax1.fill_between(ν, -0.15, 1.15, where=T<=0.5, facecolor='gray', alpha=0.15, transform=trans)\n",
    "ax1.plot(ν, T, c='mediumblue')\n",
    "ax1.set_xlabel('Frequency')\n",
    "ax1.set_ylabel('Norm. Trans.')\n",
    "ax1.set_xticks(νj)\n",
    "\n",
    "#----------------\n",
    "ηj = [0.15, 0.5] # We are choosing the same ηj for all resonances.\n",
    "κj = np.ones(N) # We are choosing a different κj for each resonances.\n",
    "T = Transmission(ν,νj,ηj,κj)\n",
    "\n",
    "ax2.plot(ν, T, c='mediumblue')\n",
    "ax2.set_xlabel('Frequency')\n",
    "ax2.set_xticks(νj)\n",
    "ax2.set_ylim(-0.15, 1.15)\n",
    "# plt.savefig(pathfig+'Cavity-transmission_2-peaks_changing-κ-and-η.svg')\n",
    "plt.show()"
   ]
  },
  {
   "cell_type": "markdown",
   "metadata": {},
   "source": [
    "### 3 peaks"
   ]
  },
  {
   "cell_type": "code",
   "execution_count": 5,
   "metadata": {},
   "outputs": [
    {
     "data": {
      "image/png": "[encoded data removed]",
      "text/plain": [
       "<Figure size 368.504x113.386 with 1 Axes>"
      ]
     },
     "metadata": {
      "needs_background": "light"
     },
     "output_type": "display_data"
    }
   ],
   "source": [
    "νi, νf, step = 190, 210, 1e-2 # Frequency in THz\n",
    "\n",
    "ν = np.arange(νi, νf, step)\n",
    "\n",
    "N = 3 # Number of resonances\n",
    "δ = 4 # Avoid peaks in the extremes of the intervale of frequencies.\n",
    "νj = np.linspace(νi+δ, νf-δ, N)\n",
    "ηj = 0.5*np.ones(N) # We are choosing the same ηj for all resonances.\n",
    "κj = 0.3*np.ones(N) # We are choosing the same κj for all resonances.\n",
    "\n",
    "label = []\n",
    "for ii in range(N):\n",
    "    label.append(r'$ν_{}$'.format(ii+1))\n",
    "\n",
    "fig, ax = plt.subplots(figsize=cm2inch(13,4))\n",
    "\n",
    "T = Transmission(ν,νj,ηj,κj)\n",
    "ax.plot(ν, T, c='mediumblue')\n",
    "\n",
    "trans = mtransforms.blended_transform_factory(ax.transData, ax.transAxes)\n",
    "\n",
    "ax.set_xlabel('Frequency')\n",
    "ax.set_ylabel('Norm. Trans.')\n",
    "ax.set_ylim(-0.5, 1.2)\n",
    "\n",
    "plt.xticks(νj, label)\n",
    "# plt.savefig(pathfig+'Cavity-transmission_3-peaks.svg')\n",
    "plt.show()"
   ]
  },
  {
   "cell_type": "markdown",
   "metadata": {},
   "source": [
    "## Microsphere eccentricity splitting:\n",
    "\n",
    "$$\\frac{\\Delta\\omega_\\text{ecc}}{\\omega_{nlm}} = -\\frac{\\epsilon}{6}\\left(1-3\\frac{|m|^2}{l(l+1)}\\right)$$"
   ]
  },
  {
   "cell_type": "markdown",
   "metadata": {},
   "source": [
    "#### Dispersion/Sellmeier formula for silica:"
   ]
  },
  {
   "cell_type": "code",
   "execution_count": 6,
   "metadata": {},
   "outputs": [
    {
     "data": {
      "text/latex": [
       "$\\displaystyle 1.44402362170326$"
      ],
      "text/plain": [
       "1.44402362170326"
      ]
     },
     "execution_count": 6,
     "metadata": {},
     "output_type": "execute_result"
    }
   ],
   "source": [
    "B1, B2, B3 = 0.6961663, 0.4079426, 0.8974794\n",
    "C1, C2, C3 = 68.4043, 116.2414, 9896.161 # in nm\n",
    "\n",
    "λ = symbols('λ')\n",
    "n = sqrt(1+(B1*λ**2)/(λ**2-C1**2)+(B2*λ**2)/(λ**2-C2**2)+(B3*λ**2)/(λ**2-C3**2))\n",
    "ng = n - λ*diff(n, λ)\n",
    "\n",
    "n.subs([(λ, 1550)])"
   ]
  },
  {
   "cell_type": "code",
   "execution_count": 159,
   "metadata": {},
   "outputs": [
    {
     "data": {
      "image/png": "[encoded data removed]",
      "text/plain": [
       "<Figure size 226.772x113.386 with 1 Axes>"
      ]
     },
     "metadata": {
      "needs_background": "light"
     },
     "output_type": "display_data"
    }
   ],
   "source": [
    "def Splitting(R, ϵ, ν0):\n",
    "    \"\"\"\n",
    "    ϵ is the excentricty of the microsphere, can be oblate (ϵ>0) or prolate (ϵ<0)\n",
    "    R is the microsphere radius [m]\n",
    "    ν0 is the ressonance frequency [THz]\n",
    "    \"\"\"\n",
    "    λ0 = 1e-3*c/ν0 # In nm\n",
    "    ng0 = ng.subs([(λ, λ0)])\n",
    "    fsr = 1e-12*c/2/π/ng0/R # In THz\n",
    "    l = int(ν0/fsr)\n",
    "    ν0m = []\n",
    "    for m in range(l):\n",
    "        ν0m.append(-ν0*(ϵ/6)*(1-3*m**2/l/(l+1)))\n",
    "    return l, ν0m\n",
    "\n",
    "ν0 = 195\n",
    "l, Δνm = Splitting(125e-6, 0.01, ν0)\n",
    "\n",
    "plt.figure(figsize=cm2inch(8,4))\n",
    "plt.plot(np.arange(l), Δνm)\n",
    "plt.xlabel('m')\n",
    "plt.ylabel('Δν (THz)')\n",
    "plt.show()"
   ]
  },
  {
   "cell_type": "markdown",
   "metadata": {},
   "source": [
    "### Splitting between modes with successive azimuthal mode number"
   ]
  },
  {
   "cell_type": "code",
   "execution_count": 164,
   "metadata": {},
   "outputs": [
    {
     "data": {
      "image/png": "[encoded data removed]",
      "text/plain": [
       "<Figure size 226.772x113.386 with 1 Axes>"
      ]
     },
     "metadata": {
      "needs_background": "light"
     },
     "output_type": "display_data"
    }
   ],
   "source": [
    "def split(R, ϵ, ν0, N=10):\n",
    "    \"\"\"\n",
    "    ϵ is the excentricty of the microsphere, can be oblate (ϵ>0) or prolate (ϵ<0)\n",
    "    R is the microsphere radius [m]\n",
    "    ν0 is the ressonance frequency [THz]\n",
    "    \"\"\"\n",
    "    λ0 = 1e-3*c/ν0 # In nm\n",
    "    ng0 = ng.subs([(λ, λ0)])\n",
    "    fsr = 1e-12*c/2/π/ng0/R # In THz\n",
    "    l = int(ν0/fsr)\n",
    "    Δν = []\n",
    "    for m in range(l, l-N, -1):\n",
    "        Δν.append(1e3*ν0*ϵ*(m+1/2)/l**2)\n",
    "    return l, Δν\n",
    "\n",
    "ϵ = 0.04 # Eccentricity around 10%\n",
    "R = 125e-6\n",
    "ν0 = 200\n",
    "N = 10\n",
    "l, Δνl = split(R, ϵ, ν0)\n",
    "plt.figure(figsize=cm2inch(8,4))\n",
    "plt.scatter(range(l, l-N, -1), Δνl)\n",
    "plt.axvline(x=l, ymin=0, ymax=1, c='k', ls='--', alpha=0.6)\n",
    "plt.axhline(y=Δνl[0], xmin=0, xmax=1, c='k', ls='--', alpha=0.6)\n",
    "plt.xlabel('m')\n",
    "plt.ylabel('Δν (GHz)')\n",
    "plt.show()"
   ]
  },
  {
   "cell_type": "markdown",
   "metadata": {},
   "source": [
    "In conclusion, if we have an sphere with ϵ=4%, the mode with m=l-1 will appear ~10.45 GHz from the equatorial mode."
   ]
  }
 ],
 "metadata": {
  "kernelspec": {
   "display_name": "Python 3",
   "language": "python",
   "name": "python3"
  },
  "language_info": {
   "codemirror_mode": {
    "name": "ipython",
    "version": 3
   },
   "file_extension": ".py",
   "mimetype": "text/x-python",
   "name": "python",
   "nbconvert_exporter": "python",
   "pygments_lexer": "ipython3",
   "version": "3.7.4"
  }
 },
 "nbformat": 4,
 "nbformat_minor": 4
}
